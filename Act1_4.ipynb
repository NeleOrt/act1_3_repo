{
  "nbformat": 4,
  "nbformat_minor": 0,
  "metadata": {
    "colab": {
      "provenance": []
    },
    "kernelspec": {
      "name": "python3",
      "display_name": "Python 3"
    },
    "language_info": {
      "name": "python"
    }
  },
  "cells": [
    {
      "cell_type": "code",
      "execution_count": 7,
      "metadata": {
        "id": "LQT3dhxBcTxd"
      },
      "outputs": [],
      "source": [
        "triangle_area = lambda b, h: 1/2*(h*b)"
      ]
    },
    {
      "cell_type": "code",
      "source": [
        "def test_triangle_area():\n",
        "  assert triangle_area(1, 2) == 1\n",
        "  assert triangle_area(3, 4) == 6\n",
        "  assert triangle_area(5, 6) == 15\n",
        "  assert triangle_area(7, 8) == 28\n",
        "  assert triangle_area(1, 0) == 0\n",
        "  assert triangle_area(0, 1) == 0\n",
        "  assert triangle_area(9, 10) == 45\n",
        "test_triangle_area()"
      ],
      "metadata": {
        "id": "FNF_vREbc5Qi"
      },
      "execution_count": 8,
      "outputs": []
    },
    {
      "cell_type": "code",
      "source": [
        "def triangle_area(b, h):\n",
        "    \"\"\"\n",
        "    Calculate the area of a triangle.\n",
        "\n",
        "    Parameters:\n",
        "    b: The base length of the triangle.\n",
        "    h: The height of the triangle.\n",
        "\n",
        "    Returns:\n",
        "    area: The area of the triangle.\n",
        "    \"\"\"\n",
        "    area = 0.5 * b * h\n",
        "    return area"
      ],
      "metadata": {
        "id": "H-AhwX_Xe51C"
      },
      "execution_count": 13,
      "outputs": []
    },
    {
      "cell_type": "code",
      "source": [
        "def test_triangle_area():\n",
        "  assert triangle_area(1, 2) == 1\n",
        "  assert triangle_area(3, 4) == 6\n",
        "  assert triangle_area(5, 6) == 15\n",
        "  assert triangle_area(7, 8) == 28\n",
        "  assert triangle_area(1, 0) == 0\n",
        "  assert triangle_area(0, 1) == 0\n",
        "  assert triangle_area(9, 10) == 45\n",
        "test_triangle_area()"
      ],
      "metadata": {
        "id": "WS0yi9VFfRzb"
      },
      "execution_count": 14,
      "outputs": []
    },
    {
      "cell_type": "code",
      "source": [
        "help(triangle_area)"
      ],
      "metadata": {
        "colab": {
          "base_uri": "https://localhost:8080/"
        },
        "id": "mKDDHRCGfmR_",
        "outputId": "a6a8603d-5826-47d6-8554-2c2d5fae9732"
      },
      "execution_count": 15,
      "outputs": [
        {
          "output_type": "stream",
          "name": "stdout",
          "text": [
            "Help on function triangle_area in module __main__:\n",
            "\n",
            "triangle_area(b, h)\n",
            "    Calculate the area of a triangle.\n",
            "    \n",
            "    Parameters:\n",
            "    b: The base length of the triangle.\n",
            "    h: The height of the triangle.\n",
            "    \n",
            "    Returns:\n",
            "    area: The area of the triangle.\n",
            "\n"
          ]
        }
      ]
    }
  ]
}